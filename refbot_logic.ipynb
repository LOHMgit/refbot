{
 "cells": [
  {
   "cell_type": "markdown",
   "metadata": {},
   "source": [
    "<h1 style=\"color:#92278F\"><center>Interactive Refbot Logic Demo</center></h1>\n",
    "<h2 style=\"color:#D2846E\"><center>Building a simple chatbot - EMDC 2018</center></h2>"
   ]
  },
  {
   "cell_type": "markdown",
   "metadata": {},
   "source": [
    "<h2 style=\"color:#92278F\">Get a Bible Quran Utility object</h2>"
   ]
  },
  {
   "cell_type": "markdown",
   "metadata": {},
   "source": [
    "You need to get your own ESV token to use this app -> https://api.esv.org/  <br>We will use mine for this demo.  <u>However we should not make more than 60 requests per minute or we will be throttled!</u>"
   ]
  },
  {
   "cell_type": "code",
   "execution_count": null,
   "metadata": {},
   "outputs": [],
   "source": [
    "from bqutil import BQutils\n",
    "bqq = BQutils()\n",
    "\n",
    "#bob is a json structure taken from books_of_the_bible.json with the names of the 66 books of the Bible\n",
    "#as well as known shortcuts and aliases. bob is one of the attributes of the Bible Quran Utility object\n",
    "print('Books of the Bible json\\n')\n",
    "print(bqq.bob[0:2],'\\n')\n",
    "\n",
    "#another attribute is the threshold for fuzzy matching of the Biblical names. I have set it at 70%\n",
    "print('BQutils Threshold\\n')\n",
    "print(bqq.threshold)"
   ]
  },
  {
   "cell_type": "markdown",
   "metadata": {},
   "source": [
    "<b>TODO:</b> Try your own bob query here by setting <i>bib_index</i> to a number between 1 and 65"
   ]
  },
  {
   "cell_type": "code",
   "execution_count": null,
   "metadata": {},
   "outputs": [],
   "source": [
    "bib_index = 0\n",
    "if bib_index > 1:\n",
    "    print(bqq.bob[bib_index])\n",
    "else:\n",
    "    print('You already saw this book of the Bible')"
   ]
  },
  {
   "cell_type": "markdown",
   "metadata": {},
   "source": [
    "<h2 style=\"color:#92278F\">Extract Biblical references</h2>"
   ]
  },
  {
   "cell_type": "code",
   "execution_count": null,
   "metadata": {},
   "outputs": [],
   "source": [
    "btext = '@refbot /getscripture Exodis 18:15-16 Ex. 18:17-20'\n",
    "brefs = bqq.find_bible_verses(btext)\n",
    "print(brefs)"
   ]
  },
  {
   "cell_type": "markdown",
   "metadata": {},
   "source": [
    "<b>TODO:</b> Fill in the text string <i>btext1</i> and run find_bible_verses() with it"
   ]
  },
  {
   "cell_type": "code",
   "execution_count": null,
   "metadata": {},
   "outputs": [],
   "source": [
    "btext1 = ''\n",
    "#change the threshold up or down from 70% if you like to see how badly you can mispell Biblical names and \n",
    "#still get the right book of the Bible\n",
    "bqq.threshold = 70\n",
    "my_brefs = bqq.find_bible_verses(btext1)\n",
    "print(my_brefs)"
   ]
  },
  {
   "cell_type": "markdown",
   "metadata": {},
   "source": [
    "<h2 style=\"color:#92278F\">Get ESV json results</h2>"
   ]
  },
  {
   "cell_type": "code",
   "execution_count": null,
   "metadata": {},
   "outputs": [],
   "source": [
    "#remember to run this code in a staggered fashion since we are only allowed 60 calls per minute on my ESV token\n",
    "bref_to_query = ('Habakkuk','2','14')\n",
    "result = bqq.get_scripture(bref_to_query[0].strip()+' '+bref_to_query[1].strip()+':'+bref_to_query[2].strip())\n",
    "print(result)"
   ]
  },
  {
   "cell_type": "markdown",
   "metadata": {},
   "source": [
    "<h2 style=\"color:#92278F\">Print out just the ESV passage</h2>"
   ]
  },
  {
   "cell_type": "code",
   "execution_count": null,
   "metadata": {},
   "outputs": [],
   "source": [
    "print(result['passages'][0])"
   ]
  },
  {
   "cell_type": "markdown",
   "metadata": {},
   "source": [
    "<h2 style=\"color:#92278F\">Extract Quranic references</h2>"
   ]
  },
  {
   "cell_type": "code",
   "execution_count": null,
   "metadata": {},
   "outputs": [],
   "source": [
    "qtext  = '@refbot /getquran 2: 256 4:65'\n",
    "qrefs = bqq.find_quran_verses(qtext)\n",
    "print(qrefs)"
   ]
  },
  {
   "cell_type": "markdown",
   "metadata": {},
   "source": [
    "<h2 style=\"color:#92278F\">Get Quran json lookup results</h2>"
   ]
  },
  {
   "cell_type": "code",
   "execution_count": null,
   "metadata": {},
   "outputs": [],
   "source": [
    "qresults = []\n",
    "for qref in qrefs:\n",
    "    qresults.append(bqq.get_quran(qref))\n",
    "print(qresults[0])"
   ]
  },
  {
   "cell_type": "markdown",
   "metadata": {},
   "source": [
    "<h2 style=\"color:#92278F\">Print out just the Quranic passage</h2>"
   ]
  },
  {
   "cell_type": "code",
   "execution_count": null,
   "metadata": {},
   "outputs": [],
   "source": [
    "for idx in range(0,len(qresults)):\n",
    "    qquote = qresults[idx]['data']['text']\n",
    "    sura = qresults[idx]['data']['surah']['englishName']\n",
    "    ayah = qresults[idx]['data']['numberInSurah']\n",
    "    print(sura+' '+str(ayah)+'\\n')\n",
    "    print(qquote+'\\n\\n')"
   ]
  },
  {
   "cell_type": "markdown",
   "metadata": {},
   "source": [
    "<b>TODO:</b> Lookup your own Quranic reference by replacing <i>X</i> below the Surah number and <i>Y</i> with the verse number   <i>Eg.  4:157  5:47  9:29</i>"
   ]
  },
  {
   "cell_type": "code",
   "execution_count": null,
   "metadata": {},
   "outputs": [],
   "source": [
    "my_qref = 'Quran X:Y'\n",
    "qref = bqq.find_quran_verses(my_qref)\n",
    "if qref:\n",
    "    qresult = bqq.get_quran(qref[0])\n",
    "    print(qresult['data']['surah']['englishName']+' '+str(qresult['data']['numberInSurah'])+'\\n')\n",
    "    print(qresult['data']['text']+'\\n')\n",
    "else:\n",
    "    print('Please fill in a surah and verse')\n",
    "    qresult = []\n"
   ]
  }
 ],
 "metadata": {
  "kernelspec": {
   "display_name": "Python 3",
   "language": "python",
   "name": "python3"
  },
  "language_info": {
   "codemirror_mode": {
    "name": "ipython",
    "version": 3
   },
   "file_extension": ".py",
   "mimetype": "text/x-python",
   "name": "python",
   "nbconvert_exporter": "python",
   "pygments_lexer": "ipython3",
   "version": "3.6.2"
  }
 },
 "nbformat": 4,
 "nbformat_minor": 2
}
